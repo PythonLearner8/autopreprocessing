{
 "cells": [
  {
   "cell_type": "markdown",
   "metadata": {},
   "source": [
    "## House Prices: Advanced Regression Techniques"
   ]
  },
  {
   "cell_type": "code",
   "execution_count": 1,
   "metadata": {},
   "outputs": [],
   "source": [
    "import numpy as np\n",
    "import pandas as pd\n",
    "import autopreprocessing as ap"
   ]
  },
  {
   "cell_type": "code",
   "execution_count": 2,
   "metadata": {},
   "outputs": [],
   "source": [
    "df = pd.read_csv(\"train.csv\",low_memory=False)"
   ]
  },
  {
   "cell_type": "code",
   "execution_count": 3,
   "metadata": {},
   "outputs": [],
   "source": [
    "x = df.drop([\"SalePrice\"],axis=1)\n",
    "y = df[\"SalePrice\"]"
   ]
  },
  {
   "cell_type": "code",
   "execution_count": 4,
   "metadata": {},
   "outputs": [],
   "source": [
    "x , missing_val = ap.processing_missing(x)"
   ]
  },
  {
   "cell_type": "code",
   "execution_count": 5,
   "metadata": {},
   "outputs": [
    {
     "data": {
      "text/plain": [
       "{'LotFrontage': 69.0, 'MasVnrArea': 0.0, 'GarageYrBlt': 1980.0}"
      ]
     },
     "execution_count": 5,
     "metadata": {},
     "output_type": "execute_result"
    }
   ],
   "source": [
    "missing_val"
   ]
  },
  {
   "cell_type": "code",
   "execution_count": 6,
   "metadata": {},
   "outputs": [],
   "source": [
    "x, cat_dict = ap.proc_category(x,max_cardi=5)"
   ]
  },
  {
   "cell_type": "code",
   "execution_count": 7,
   "metadata": {},
   "outputs": [
    {
     "data": {
      "text/plain": [
       "{'MSZoning': Index(['C (all)', 'FV', 'RH', 'RL', 'RM'], dtype='object'),\n",
       " 'Street': Index(['Grvl', 'Pave'], dtype='object'),\n",
       " 'Alley': Index(['Grvl', 'Pave'], dtype='object'),\n",
       " 'LotShape': Index(['IR1', 'IR2', 'IR3', 'Reg'], dtype='object'),\n",
       " 'LandContour': Index(['Bnk', 'HLS', 'Low', 'Lvl'], dtype='object'),\n",
       " 'Utilities': Index(['AllPub', 'NoSeWa'], dtype='object'),\n",
       " 'LotConfig': Index(['Corner', 'CulDSac', 'FR2', 'FR3', 'Inside'], dtype='object'),\n",
       " 'LandSlope': Index(['Gtl', 'Mod', 'Sev'], dtype='object'),\n",
       " 'Neighborhood': Index(['Blmngtn', 'Blueste', 'BrDale', 'BrkSide', 'ClearCr', 'CollgCr',\n",
       "        'Crawfor', 'Edwards', 'Gilbert', 'IDOTRR', 'MeadowV', 'Mitchel',\n",
       "        'NAmes', 'NPkVill', 'NWAmes', 'NoRidge', 'NridgHt', 'OldTown', 'SWISU',\n",
       "        'Sawyer', 'SawyerW', 'Somerst', 'StoneBr', 'Timber', 'Veenker'],\n",
       "       dtype='object'),\n",
       " 'Condition1': Index(['Artery', 'Feedr', 'Norm', 'PosA', 'PosN', 'RRAe', 'RRAn', 'RRNe',\n",
       "        'RRNn'],\n",
       "       dtype='object'),\n",
       " 'Condition2': Index(['Artery', 'Feedr', 'Norm', 'PosA', 'PosN', 'RRAe', 'RRAn', 'RRNn'], dtype='object'),\n",
       " 'BldgType': Index(['1Fam', '2fmCon', 'Duplex', 'Twnhs', 'TwnhsE'], dtype='object'),\n",
       " 'HouseStyle': Index(['1.5Fin', '1.5Unf', '1Story', '2.5Fin', '2.5Unf', '2Story', 'SFoyer',\n",
       "        'SLvl'],\n",
       "       dtype='object'),\n",
       " 'RoofStyle': Index(['Flat', 'Gable', 'Gambrel', 'Hip', 'Mansard', 'Shed'], dtype='object'),\n",
       " 'RoofMatl': Index(['ClyTile', 'CompShg', 'Membran', 'Metal', 'Roll', 'Tar&Grv', 'WdShake',\n",
       "        'WdShngl'],\n",
       "       dtype='object'),\n",
       " 'Exterior1st': Index(['AsbShng', 'AsphShn', 'BrkComm', 'BrkFace', 'CBlock', 'CemntBd',\n",
       "        'HdBoard', 'ImStucc', 'MetalSd', 'Plywood', 'Stone', 'Stucco',\n",
       "        'VinylSd', 'Wd Sdng', 'WdShing'],\n",
       "       dtype='object'),\n",
       " 'Exterior2nd': Index(['AsbShng', 'AsphShn', 'Brk Cmn', 'BrkFace', 'CBlock', 'CmentBd',\n",
       "        'HdBoard', 'ImStucc', 'MetalSd', 'Other', 'Plywood', 'Stone', 'Stucco',\n",
       "        'VinylSd', 'Wd Sdng', 'Wd Shng'],\n",
       "       dtype='object'),\n",
       " 'MasVnrType': Index(['BrkCmn', 'BrkFace', 'None', 'Stone'], dtype='object'),\n",
       " 'ExterQual': Index(['Ex', 'Fa', 'Gd', 'TA'], dtype='object'),\n",
       " 'ExterCond': Index(['Ex', 'Fa', 'Gd', 'Po', 'TA'], dtype='object'),\n",
       " 'Foundation': Index(['BrkTil', 'CBlock', 'PConc', 'Slab', 'Stone', 'Wood'], dtype='object'),\n",
       " 'BsmtQual': Index(['Ex', 'Fa', 'Gd', 'TA'], dtype='object'),\n",
       " 'BsmtCond': Index(['Fa', 'Gd', 'Po', 'TA'], dtype='object'),\n",
       " 'BsmtExposure': Index(['Av', 'Gd', 'Mn', 'No'], dtype='object'),\n",
       " 'BsmtFinType1': Index(['ALQ', 'BLQ', 'GLQ', 'LwQ', 'Rec', 'Unf'], dtype='object'),\n",
       " 'BsmtFinType2': Index(['ALQ', 'BLQ', 'GLQ', 'LwQ', 'Rec', 'Unf'], dtype='object'),\n",
       " 'Heating': Index(['Floor', 'GasA', 'GasW', 'Grav', 'OthW', 'Wall'], dtype='object'),\n",
       " 'HeatingQC': Index(['Ex', 'Fa', 'Gd', 'Po', 'TA'], dtype='object'),\n",
       " 'CentralAir': Index(['N', 'Y'], dtype='object'),\n",
       " 'Electrical': Index(['FuseA', 'FuseF', 'FuseP', 'Mix', 'SBrkr'], dtype='object'),\n",
       " 'KitchenQual': Index(['Ex', 'Fa', 'Gd', 'TA'], dtype='object'),\n",
       " 'Functional': Index(['Maj1', 'Maj2', 'Min1', 'Min2', 'Mod', 'Sev', 'Typ'], dtype='object'),\n",
       " 'FireplaceQu': Index(['Ex', 'Fa', 'Gd', 'Po', 'TA'], dtype='object'),\n",
       " 'GarageType': Index(['2Types', 'Attchd', 'Basment', 'BuiltIn', 'CarPort', 'Detchd'], dtype='object'),\n",
       " 'GarageFinish': Index(['Fin', 'RFn', 'Unf'], dtype='object'),\n",
       " 'GarageQual': Index(['Ex', 'Fa', 'Gd', 'Po', 'TA'], dtype='object'),\n",
       " 'GarageCond': Index(['Ex', 'Fa', 'Gd', 'Po', 'TA'], dtype='object'),\n",
       " 'PavedDrive': Index(['N', 'P', 'Y'], dtype='object'),\n",
       " 'PoolQC': Index(['Ex', 'Fa', 'Gd'], dtype='object'),\n",
       " 'Fence': Index(['GdPrv', 'GdWo', 'MnPrv', 'MnWw'], dtype='object'),\n",
       " 'MiscFeature': Index(['Gar2', 'Othr', 'Shed', 'TenC'], dtype='object'),\n",
       " 'SaleType': Index(['COD', 'CWD', 'Con', 'ConLD', 'ConLI', 'ConLw', 'New', 'Oth', 'WD'], dtype='object'),\n",
       " 'SaleCondition': Index(['Abnorml', 'AdjLand', 'Alloca', 'Family', 'Normal', 'Partial'], dtype='object')}"
      ]
     },
     "execution_count": 7,
     "metadata": {},
     "output_type": "execute_result"
    }
   ],
   "source": [
    "cat_dict"
   ]
  },
  {
   "cell_type": "code",
   "execution_count": 8,
   "metadata": {},
   "outputs": [
    {
     "name": "stdout",
     "output_type": "stream",
     "text": [
      "<class 'pandas.core.frame.DataFrame'>\n",
      "RangeIndex: 1460 entries, 0 to 1459\n",
      "Columns: 131 entries, Id to MiscFeature_TenC\n",
      "dtypes: float64(3), int64(34), int8(16), uint8(78)\n",
      "memory usage: 556.2 KB\n"
     ]
    }
   ],
   "source": [
    "x.info()"
   ]
  },
  {
   "cell_type": "code",
   "execution_count": 9,
   "metadata": {},
   "outputs": [
    {
     "name": "stderr",
     "output_type": "stream",
     "text": [
      "C:\\Users\\ASUS\\Anaconda3\\lib\\site-packages\\sklearn\\ensemble\\forest.py:245: FutureWarning: The default value of n_estimators will change from 10 in version 0.20 to 100 in 0.22.\n",
      "  \"10 in version 0.20 to 100 in 0.22.\", FutureWarning)\n"
     ]
    },
    {
     "data": {
      "text/plain": [
       "0.9767249226469927"
      ]
     },
     "execution_count": 9,
     "metadata": {},
     "output_type": "execute_result"
    }
   ],
   "source": [
    "from sklearn.ensemble import RandomForestRegressor\n",
    "m = RandomForestRegressor(n_jobs=-1)\n",
    "m.fit(x,y)\n",
    "m.score(x,y)"
   ]
  }
 ],
 "metadata": {
  "kernelspec": {
   "display_name": "Python 3",
   "language": "python",
   "name": "python3"
  },
  "language_info": {
   "codemirror_mode": {
    "name": "ipython",
    "version": 3
   },
   "file_extension": ".py",
   "mimetype": "text/x-python",
   "name": "python",
   "nbconvert_exporter": "python",
   "pygments_lexer": "ipython3",
   "version": "3.7.4"
  }
 },
 "nbformat": 4,
 "nbformat_minor": 2
}
